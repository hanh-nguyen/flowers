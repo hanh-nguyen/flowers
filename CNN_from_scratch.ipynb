{
 "cells": [
  {
   "cell_type": "code",
   "execution_count": 1,
   "id": "9d84094c",
   "metadata": {},
   "outputs": [
    {
     "name": "stderr",
     "output_type": "stream",
     "text": [
      "2023-02-08 16:07:04.985530: I tensorflow/core/platform/cpu_feature_guard.cc:193] This TensorFlow binary is optimized with oneAPI Deep Neural Network Library (oneDNN) to use the following CPU instructions in performance-critical operations:  SSE4.1 SSE4.2 AVX AVX2 FMA\n",
      "To enable them in other operations, rebuild TensorFlow with the appropriate compiler flags.\n"
     ]
    }
   ],
   "source": [
    "import numpy as np\n",
    "np.random.seed(11)\n",
    "import tensorflow as tf\n",
    "tf.random.set_seed(11)"
   ]
  },
  {
   "cell_type": "code",
   "execution_count": 2,
   "id": "2c869d34",
   "metadata": {},
   "outputs": [],
   "source": [
    "from tensorflow.keras.applications.resnet50 import ResNet50, preprocess_input, decode_predictions\n",
    "import keras.layers as layers\n",
    "from keras.models import Sequential\n",
    "from keras.utils import np_utils, load_img, img_to_array"
   ]
  },
  {
   "cell_type": "code",
   "execution_count": 3,
   "id": "e6565487",
   "metadata": {},
   "outputs": [],
   "source": [
    "from sklearn.datasets import load_files\n",
    "from tqdm import tqdm\n",
    "import pandas as pd"
   ]
  },
  {
   "cell_type": "markdown",
   "id": "a5d78466",
   "metadata": {},
   "source": [
    "## Load images"
   ]
  },
  {
   "cell_type": "code",
   "execution_count": 4,
   "id": "7bba32fa",
   "metadata": {},
   "outputs": [],
   "source": [
    "def load_dataset(path):\n",
    "    data = load_files(path)\n",
    "    files = np.array(data['filenames'])\n",
    "    targets = np_utils.to_categorical(np.array(data['target']), 102)\n",
    "    return files, targets\n",
    "\n",
    "# load train, test, and validation datasets\n",
    "train_files, train_targets = load_dataset('./Data/Datasplit/train')\n",
    "valid_files, valid_targets = load_dataset('./Data/Datasplit/valid')\n",
    "test_files, test_targets = load_dataset('./Data/Datasplit/test')"
   ]
  },
  {
   "cell_type": "markdown",
   "id": "05fe5f58",
   "metadata": {},
   "source": [
    "## Convert images to float"
   ]
  },
  {
   "cell_type": "code",
   "execution_count": 5,
   "id": "f21673df",
   "metadata": {},
   "outputs": [],
   "source": [
    "def path_to_tensor(img_path):\n",
    "    # loads RGB image as PIL.Image.Image type\n",
    "    img = load_img(img_path, target_size=(224, 224))\n",
    "    # convert PIL.Image.Image type to 3D tensor with shape (224, 224, 3)\n",
    "    x = img_to_array(img)\n",
    "    # convert 3D tensor to 4D tensor with shape (1, 224, 224, 3) and return 4D tensor\n",
    "    return np.expand_dims(x, axis=0)\n",
    "\n",
    "def paths_to_tensor(img_paths):\n",
    "    list_of_tensors = [path_to_tensor(img_path) for img_path in tqdm(img_paths)]\n",
    "    return np.vstack(list_of_tensors)"
   ]
  },
  {
   "cell_type": "markdown",
   "id": "8b8c5303",
   "metadata": {},
   "source": [
    "## Build a CNN model from scratch"
   ]
  },
  {
   "cell_type": "code",
   "execution_count": 6,
   "id": "1b415563",
   "metadata": {},
   "outputs": [
    {
     "name": "stderr",
     "output_type": "stream",
     "text": [
      "100%|██████████████████████████████████████| 1020/1020 [00:07<00:00, 142.52it/s]\n",
      "100%|██████████████████████████████████████| 1020/1020 [00:07<00:00, 143.05it/s]\n",
      "100%|██████████████████████████████████████| 6149/6149 [00:46<00:00, 133.05it/s]\n"
     ]
    }
   ],
   "source": [
    "train_tensors = paths_to_tensor(train_files)\n",
    "valid_tensors = paths_to_tensor(valid_files)\n",
    "test_tensors = paths_to_tensor(test_files)"
   ]
  },
  {
   "cell_type": "code",
   "execution_count": 7,
   "id": "79e2b296",
   "metadata": {},
   "outputs": [
    {
     "name": "stderr",
     "output_type": "stream",
     "text": [
      "2023-02-08 16:08:58.878017: I tensorflow/core/platform/cpu_feature_guard.cc:193] This TensorFlow binary is optimized with oneAPI Deep Neural Network Library (oneDNN) to use the following CPU instructions in performance-critical operations:  SSE4.1 SSE4.2 AVX AVX2 FMA\n",
      "To enable them in other operations, rebuild TensorFlow with the appropriate compiler flags.\n"
     ]
    },
    {
     "name": "stdout",
     "output_type": "stream",
     "text": [
      "Model: \"sequential\"\n",
      "_________________________________________________________________\n",
      " Layer (type)                Output Shape              Param #   \n",
      "=================================================================\n",
      " conv2d (Conv2D)             (None, 224, 224, 32)      2432      \n",
      "                                                                 \n",
      " dropout (Dropout)           (None, 224, 224, 32)      0         \n",
      "                                                                 \n",
      " batch_normalization (BatchN  (None, 224, 224, 32)     128       \n",
      " ormalization)                                                   \n",
      "                                                                 \n",
      " max_pooling2d (MaxPooling2D  (None, 112, 112, 32)     0         \n",
      " )                                                               \n",
      "                                                                 \n",
      " conv2d_1 (Conv2D)           (None, 112, 112, 64)      18496     \n",
      "                                                                 \n",
      " dropout_1 (Dropout)         (None, 112, 112, 64)      0         \n",
      "                                                                 \n",
      " batch_normalization_1 (Batc  (None, 112, 112, 64)     256       \n",
      " hNormalization)                                                 \n",
      "                                                                 \n",
      " max_pooling2d_1 (MaxPooling  (None, 56, 56, 64)       0         \n",
      " 2D)                                                             \n",
      "                                                                 \n",
      " conv2d_2 (Conv2D)           (None, 56, 56, 128)       73856     \n",
      "                                                                 \n",
      " dropout_2 (Dropout)         (None, 56, 56, 128)       0         \n",
      "                                                                 \n",
      " batch_normalization_2 (Batc  (None, 56, 56, 128)      512       \n",
      " hNormalization)                                                 \n",
      "                                                                 \n",
      " max_pooling2d_2 (MaxPooling  (None, 28, 28, 128)      0         \n",
      " 2D)                                                             \n",
      "                                                                 \n",
      " flatten (Flatten)           (None, 100352)            0         \n",
      "                                                                 \n",
      " dense (Dense)               (None, 102)               10236006  \n",
      "                                                                 \n",
      "=================================================================\n",
      "Total params: 10,331,686\n",
      "Trainable params: 10,331,238\n",
      "Non-trainable params: 448\n",
      "_________________________________________________________________\n"
     ]
    }
   ],
   "source": [
    "cnn = Sequential([\n",
    "    layers.Conv2D(filters=32, kernel_size=5, activation=\"relu\", padding='same', input_shape=[224, 224, 3]),\n",
    "    layers.Dropout(0.1),\n",
    "    layers.BatchNormalization(),\n",
    "    layers.MaxPool2D(pool_size=2),\n",
    "    \n",
    "\n",
    "    layers.Conv2D(filters=64, kernel_size=3, activation=\"relu\", padding='same'),\n",
    "    layers.Dropout(0.1),\n",
    "    layers.BatchNormalization(),\n",
    "    layers.MaxPool2D(pool_size=2),\n",
    "    \n",
    "    layers.Conv2D(filters=128, kernel_size=3, activation=\"relu\", padding='same'),\n",
    "    layers.Dropout(0.1),\n",
    "    layers.BatchNormalization(),\n",
    "    layers.MaxPool2D(pool_size=2),\n",
    "\n",
    "    # Classifier Head\n",
    "    layers.Flatten(),\n",
    "    layers.Dense(units=102, activation=\"softmax\"),\n",
    "])\n",
    "\n",
    "cnn.summary()"
   ]
  },
  {
   "cell_type": "code",
   "execution_count": 8,
   "id": "9e9e963c",
   "metadata": {},
   "outputs": [],
   "source": [
    "cnn.compile(optimizer='adam', loss='categorical_crossentropy', metrics=['accuracy'])\n",
    "early_stopping = tf.keras.callbacks.EarlyStopping(patience=10, min_delta=0.001, restore_best_weights=True)\n",
    "\n",
    "history = cnn.fit(train_tensors, train_targets, validation_data=(valid_tensors, valid_targets), \n",
    "                    epochs=100, batch_size=256, callbacks=[early_stopping], verbose=0)"
   ]
  },
  {
   "cell_type": "code",
   "execution_count": 9,
   "id": "feb8c9ef",
   "metadata": {},
   "outputs": [
    {
     "name": "stdout",
     "output_type": "stream",
     "text": [
      "32/32 [==============================] - 28s 857ms/step - loss: 0.0690 - accuracy: 0.9882\n",
      "32/32 [==============================] - 28s 859ms/step - loss: 22.0120 - accuracy: 0.1922\n",
      "193/193 [==============================] - 185s 955ms/step - loss: 23.9019 - accuracy: 0.1569\n"
     ]
    }
   ],
   "source": [
    "cnn.evaluate(train_tensors, train_targets)\n",
    "cnn.evaluate(valid_tensors, valid_targets)\n",
    "cnn.evaluate(test_tensors, test_targets);"
   ]
  },
  {
   "cell_type": "code",
   "execution_count": 10,
   "id": "c75377d3",
   "metadata": {},
   "outputs": [],
   "source": [
    "# get prediction\n",
    "flower_preds = [np.argmax(cnn.predict(np.expand_dims(tensor, axis=0), verbose=0)) for tensor in test_tensors]"
   ]
  },
  {
   "cell_type": "code",
   "execution_count": 11,
   "id": "9a747746",
   "metadata": {},
   "outputs": [
    {
     "name": "stdout",
     "output_type": "stream",
     "text": [
      "Test accuracy: 15.69%\n"
     ]
    }
   ],
   "source": [
    "# another way to get accuracy\n",
    "test_accuracy = 100*np.sum(np.array(flower_preds)==np.argmax(test_targets, axis=1))/len(flower_preds)\n",
    "print(f'Test accuracy: {test_accuracy:.2f}%')"
   ]
  },
  {
   "cell_type": "code",
   "execution_count": 14,
   "id": "d0d56f0e",
   "metadata": {},
   "outputs": [],
   "source": [
    "history_df = pd.DataFrame(history.history)"
   ]
  },
  {
   "cell_type": "code",
   "execution_count": 15,
   "id": "91472358",
   "metadata": {},
   "outputs": [
    {
     "data": {
      "image/png": "[encoded data removed]",
      "text/plain": [
       "<Figure size 640x480 with 1 Axes>"
      ]
     },
     "metadata": {},
     "output_type": "display_data"
    }
   ],
   "source": [
    "history_df.loc[:, ['loss', 'val_loss']].plot();"
   ]
  },
  {
   "cell_type": "code",
   "execution_count": 19,
   "id": "51d1eb48",
   "metadata": {},
   "outputs": [
    {
     "name": "stdout",
     "output_type": "stream",
     "text": [
      "Best Validation Loss: 22.0120\n",
      "Best Validation Accuracy: 0.1931\n"
     ]
    },
    {
     "data": {
      "image/png": "[encoded data removed]",
      "text/plain": [
       "<Figure size 640x480 with 1 Axes>"
      ]
     },
     "metadata": {},
     "output_type": "display_data"
    },
    {
     "data": {
      "image/png": "[encoded data removed]",
      "text/plain": [
       "<Figure size 640x480 with 1 Axes>"
      ]
     },
     "metadata": {},
     "output_type": "display_data"
    }
   ],
   "source": [
    "# Start the plot at epoch 5\n",
    "history_df.loc[10:, ['loss', 'val_loss']].plot()\n",
    "history_df.loc[10:, ['accuracy', 'val_accuracy']].plot()\n",
    "\n",
    "print((\"Best Validation Loss: {:0.4f}\" +\\\n",
    "      \"\\nBest Validation Accuracy: {:0.4f}\")\\\n",
    "      .format(history_df['val_loss'].min(), \n",
    "              history_df['val_accuracy'].max()))"
   ]
  },
  {
   "cell_type": "code",
   "execution_count": null,
   "id": "a353c634",
   "metadata": {},
   "outputs": [],
   "source": []
  }
 ],
 "metadata": {
  "kernelspec": {
   "display_name": "flowers",
   "language": "python",
   "name": "flowers"
  },
  "language_info": {
   "codemirror_mode": {
    "name": "ipython",
    "version": 3
   },
   "file_extension": ".py",
   "mimetype": "text/x-python",
   "name": "python",
   "nbconvert_exporter": "python",
   "pygments_lexer": "ipython3",
   "version": "3.10.9"
  }
 },
 "nbformat": 4,
 "nbformat_minor": 5
}
